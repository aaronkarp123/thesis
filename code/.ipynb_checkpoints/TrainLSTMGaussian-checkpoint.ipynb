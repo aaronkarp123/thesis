{
 "cells": [
  {
   "cell_type": "code",
   "execution_count": 2,
   "metadata": {
    "collapsed": false
   },
   "outputs": [
    {
     "name": "stderr",
     "output_type": "stream",
     "text": [
      "Using TensorFlow backend.\n"
     ]
    }
   ],
   "source": [
    "from helpers import *\n",
    "\n",
    "import random\n",
    "from random import randrange\n",
    "from keras.models import Sequential\n",
    "from keras.layers import Dense, Embedding, LSTM, Flatten\n",
    "from sklearn.model_selection import train_test_split\n",
    "from keras.utils.np_utils import to_categorical\n",
    "from sklearn.preprocessing import MinMaxScaler\n",
    "import time\n",
    "import matplotlib.pyplot as plt"
   ]
  },
  {
   "cell_type": "code",
   "execution_count": 5,
   "metadata": {
    "collapsed": false
   },
   "outputs": [
    {
     "data": {
      "image/png": "[encoded data removed]",
      "text/plain": [
       "<Figure size 432x288 with 1 Axes>"
      ]
     },
     "metadata": {
      "needs_background": "light"
     },
     "output_type": "display_data"
    },
    {
     "data": {
      "image/png": "[encoded data removed]",
      "text/plain": [
       "<Figure size 432x288 with 1 Axes>"
      ]
     },
     "metadata": {
      "needs_background": "light"
     },
     "output_type": "display_data"
    }
   ],
   "source": [
    "num_samples_per_batch = 1000\n",
    "num_batches = 100\n",
    "means = [5, 18]\n",
    "\n",
    "def generate_data():\n",
    "    data = np.zeros(0)\n",
    "    classes = np.zeros(0)\n",
    "    num_used = [0, 0]\n",
    "    x1 = y1 = x2 = y2 = np.zeros(0)\n",
    "    for i in range(0, num_batches):\n",
    "        to_use = randrange(2)\n",
    "        while num_used[to_use] > num_samples_per_batch / 2:\n",
    "            to_use = randrange(2)\n",
    "        num_used[to_use] += 1\n",
    "        mu, sigma = means[to_use], 2.0 # mean and standard deviation\n",
    "        s = np.random.normal(mu, sigma, random.randint(num_samples_per_batch-30, num_samples_per_batch+30))\n",
    "        \n",
    "        data = np.concatenate((data, s))\n",
    "        classes = np.concatenate((classes, np.full(s.shape, to_use)))\n",
    "        \n",
    "        if to_use == 0:\n",
    "            x1 = np.concatenate((x1, s))\n",
    "        elif to_use == 1:\n",
    "            x2 = np.concatenate((x2, s))\n",
    "     \n",
    "    return data, classes, x1, x2\n",
    "\n",
    "training_data, training_classes, x1,x2= generate_data()   \n",
    "\n",
    "bins = np.linspace(-5, 25, 1000)\n",
    "\n",
    "plt.hist(x1, bins, alpha=0.5, label='x')\n",
    "plt.hist(x2, bins, alpha=0.5, label='y')\n",
    "plt.title(\"Training Data\")\n",
    "plt.show()\n",
    "\n",
    "testing_data, testing_classes, x1,x2= generate_data()   \n",
    "\n",
    "bins = np.linspace(-5, 25, 1000)\n",
    "\n",
    "plt.hist(x1, bins, alpha=0.5, label='x')\n",
    "plt.hist(x2, bins, alpha=0.5, label='y')\n",
    "plt.title(\"Testing Data\")\n",
    "plt.show()"
   ]
  },
  {
   "cell_type": "code",
   "execution_count": 6,
   "metadata": {
    "collapsed": false
   },
   "outputs": [
    {
     "name": "stdout",
     "output_type": "stream",
     "text": [
      "99886\n",
      "51\n",
      "[16.717144942475137, 17.019946182242624, 21.451213479701437, 18.660381052662647, 17.711747686878564, 20.731749538150343, 19.035345283252294, 17.597340141246182, 17.198549626149156, 21.582335698565863, 19.842167105879614, 16.233113743489277, 16.23504491888825, 16.54092206700178, 20.388272069313818, 15.952593245725382, 18.52820792310665, 17.732075203576013, 17.24847131943085, 13.402954979753941, 18.944397539978365, 19.688541533641985, 19.01898785034594, 18.621003836675424, 16.576918558019216, 18.20963363560099, 16.078551691021733, 16.206112876398322, 15.565390103753984, 17.609127417411532, 19.165944039710034, 17.871886062543155, 15.851266886265321, 18.389099100041044, 17.692961596486416, 16.706342873743377, 16.59638163190731, 18.720874000873543, 20.432373541730904, 19.234655428958305, 16.927762118591012, 20.47297837709292, 16.834351185487215, 18.602904665585463, 19.328216195933386, 16.63841458712254, 18.004003683430735, 20.440532284589498, 18.381471158186915, 20.530691870765498, 19.591319638717515]\n"
     ]
    }
   ],
   "source": [
    "batch_length = 51\n",
    "def batch(data, classes):\n",
    "    bdata = []\n",
    "    bclasses = []\n",
    "    cur_item = 0\n",
    "    for item in data:\n",
    "        if cur_item + batch_length >= len(data):\n",
    "            break\n",
    "        comp_items = [item]\n",
    "        for i in range(1,batch_length):\n",
    "            comp_items.append(data[cur_item + i])\n",
    "        bdata.append(comp_items)\n",
    "        bclasses.append(classes[cur_item])\n",
    "        cur_item += 1\n",
    "    return bdata, bclasses\n",
    "\n",
    "training_batch_data, training_batch_classes = batch(training_data, training_classes)\n",
    "testing_batch_data, testing_batch_classes = batch(testing_data, testing_classes)\n",
    "\n",
    "print(len(training_batch_data))\n",
    "print(len(training_batch_data[0]))\n",
    "print(training_batch_data[0])"
   ]
  },
  {
   "cell_type": "code",
   "execution_count": 9,
   "metadata": {
    "collapsed": false
   },
   "outputs": [
    {
     "name": "stdout",
     "output_type": "stream",
     "text": [
      "_________________________________________________________________\n",
      "Layer (type)                 Output Shape              Param #   \n",
      "=================================================================\n",
      "lstm_1 (LSTM)                (None, 50)                10400     \n",
      "_________________________________________________________________\n",
      "dense_1 (Dense)              (None, 1)                 51        \n",
      "=================================================================\n",
      "Total params: 10,451\n",
      "Trainable params: 10,451\n",
      "Non-trainable params: 0\n",
      "_________________________________________________________________\n",
      "None\n",
      "Epoch 1/3\n",
      "99886/99886 [==============================] - 33s 329us/step - loss: 0.0655 - acc: 0.9847\n",
      "Epoch 2/3\n",
      "99886/99886 [==============================] - 31s 311us/step - loss: 0.0285 - acc: 0.9941\n",
      "Epoch 3/3\n",
      "99886/99886 [==============================] - 31s 311us/step - loss: 0.0310 - acc: 0.9901\n",
      "100134/100134 [==============================] - 11s 111us/step\n",
      "Accuracy: 99.93%\n"
     ]
    }
   ],
   "source": [
    "lstm_out = 50\n",
    "batch_size = 128\n",
    "embedding_vector_length = 32\n",
    "dropout = 0.2\n",
    "dropout_r = 0.2\n",
    "\n",
    "num_classes = 2\n",
    "number_inputs = 2\n",
    "    \n",
    "training_batch_data = np.reshape(training_batch_data, (len(training_batch_data),batch_length,1))\n",
    "testing_batch_data = np.reshape(testing_batch_data, (len(testing_batch_data),batch_length,1))\n",
    "    \n",
    "model = Sequential()\n",
    "model.add(LSTM(lstm_out, input_shape=(batch_length, 1), dropout = dropout, recurrent_dropout = dropout_r))\n",
    "model.add(Dense(1,activation='sigmoid'))\n",
    "model.compile(loss = 'binary_crossentropy', optimizer='adam',metrics = ['accuracy'])\n",
    "print(model.summary())\n",
    "\n",
    "model.fit(np.array(training_batch_data), np.array(training_batch_classes), epochs=3, batch_size=batch_size)\n",
    "scores = model.evaluate(testing_batch_data, testing_batch_classes, batch_size=batch_size)\n",
    "print(\"Accuracy: %.2f%%\" % (scores[1]*100))"
   ]
  }
 ],
 "metadata": {
  "anaconda-cloud": {},
  "kernelspec": {
   "display_name": "Python [conda env:thesisCode]",
   "language": "python",
   "name": "conda-env-thesisCode-py"
  },
  "language_info": {
   "codemirror_mode": {
    "name": "ipython",
    "version": 3
   },
   "file_extension": ".py",
   "mimetype": "text/x-python",
   "name": "python",
   "nbconvert_exporter": "python",
   "pygments_lexer": "ipython3",
   "version": "3.6.5"
  }
 },
 "nbformat": 4,
 "nbformat_minor": 1
}
