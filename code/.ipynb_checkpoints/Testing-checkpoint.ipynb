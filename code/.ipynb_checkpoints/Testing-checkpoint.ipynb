{
 "cells": [
  {
   "cell_type": "code",
   "execution_count": 1,
   "metadata": {},
   "outputs": [],
   "source": [
    "# We'll need numpy for some mathematical operations\n",
    "import numpy as np\n",
    "import math\n",
    "\n",
    "# matplotlib for displaying the output\n",
    "import matplotlib.pyplot as plt\n",
    "import matplotlib.style as ms\n",
    "ms.use('seaborn-muted')\n",
    "%matplotlib inline\n",
    "\n",
    "# and IPython.display for audio output\n",
    "import IPython.display\n",
    "\n",
    "# Librosa for audio\n",
    "import librosa\n",
    "# And the display module for visualization\n",
    "import librosa.display\n",
    "\n",
    "import timeit\n",
    "\n",
    "import glob\n",
    "import os\n",
    "\n",
    "from nearpy import Engine\n",
    "from nearpy.hashes import RandomBinaryProjections\n",
    "\n",
    "# Import local modules\n",
    "from helpers import *"
   ]
  },
  {
   "cell_type": "code",
   "execution_count": null,
   "metadata": {},
   "outputs": [
    {
     "name": "stdout",
     "output_type": "stream",
     "text": [
      "1%     2%     3%     4%     5%     6%     7%     8%     9%     10%     11%     12%     13%     14%     15%     16%     17%     18%     19%     20%     21%     22%     23%     24%     25%     26%     27%     28%     29%     30%     31%     32%     33%     34%     35%     36%     37%     38%     39%     40%     41%     42%     43%     44%     45%     46%     47%     48%     49%     50%     51%     52%     53%     54%     55%     56%     57%     58%     59%     60%     61%     62%     63%     64%     65%     66%     67%     68%     69%     70%     71%     72%     73%     74%     75%     76%     77%     78%     79%     80%     81%     82%     83%     84%     85%     86%     87%     88%     89%     90%     91%     92%     93%     94%     95%     96%     97%     98%     99%     100%     "
     ]
    }
   ],
   "source": [
    "# Load all sample files\n",
    "filedir = \"/Volumes/External Storage/Thesis/Corpus/eng-balm-emmanuel/flac\"  # \"../testSounds\"\n",
    "segment_length = 0.2  # length of segments in seconds\n",
    "\n",
    "sounds, samplerates = load_sounds(filedir)\n",
    "spectrograms, mfccs, rmss, centroids, max_num_segs = analyze_sounds(sounds, samplerates, segment_length)\n",
    "\n",
    "num_files = len(sounds)\n",
    "\n",
    "directory = '/Users/aaronkarp/Documents/Thesis/Code/savedData/'\n",
    "to_save = [['samplerates', samplerates], ['spectrograms', spectrograms], ['mfccs', mfccs], ['rmss', rmss], ['centroids', centroids]]\n",
    "save_data(to_save, directory)"
   ]
  },
  {
   "cell_type": "code",
   "execution_count": null,
   "metadata": {
    "scrolled": false
   },
   "outputs": [],
   "source": [
    "## Organize features into lists of segments\n",
    "# feature1 = [segment1 segment2 segment3]\n",
    "# segment1 = nxm np.matrix \n",
    "\n",
    "spectrograms_by_seg = []\n",
    "spectrograms_by_seg_flat = []\n",
    "for i in range(max_num_segs):\n",
    "    seg = np.empty((num_files,128,spectrograms[0][0].shape[1]))\n",
    "    seg[:] = np.nan\n",
    "    seg_flat = np.empty((num_files,128*spectrograms[0][0].shape[1]))\n",
    "    seg_flat[:] = np.nan\n",
    "    for j in range(num_files):\n",
    "        if i < len(spectrograms[j]):\n",
    "            seg[j] = spectrograms[j][i]\n",
    "            seg_flat[j] = vectorize(spectrograms[j][i])\n",
    "    spectrograms_by_seg.append(seg)\n",
    "    spectrograms_by_seg_flat.append(seg_flat)"
   ]
  },
  {
   "cell_type": "code",
   "execution_count": null,
   "metadata": {},
   "outputs": [],
   "source": [
    "# Build LSHs for spectrograms_by_seg\n",
    "\n",
    "engines = []\n",
    "for seg in spectrograms_by_seg_flat:\n",
    "    engines.append(build_lsh(seg, 40))\n",
    "\n",
    "# File number\n",
    "query = 9\n",
    "\n",
    "scores = [0]*num_files\n",
    "distances = [0]*num_files\n",
    "cur_seg = 0\n",
    "for engine in engines:\n",
    "    # Get nearest neighbours\n",
    "    N = engine.neighbours(spectrograms_by_seg_flat[cur_seg][query])\n",
    "    for entry in N:\n",
    "        index = parse_index(entry[1])\n",
    "        if not math.isnan(entry[2]):\n",
    "            scores[index] += 1\n",
    "            distances[index] += entry[2]\n",
    "    cur_seg += 1\n",
    "\n",
    "for i in range(len(scores)):\n",
    "    if scores[i] == 0:\n",
    "        distances[i] = None\n",
    "\n",
    "print(scores)\n",
    "print(distances)"
   ]
  }
 ],
 "metadata": {
  "kernelspec": {
   "display_name": "Python (thesisCode)",
   "language": "python",
   "name": "thesiscode"
  },
  "language_info": {
   "codemirror_mode": {
    "name": "ipython",
    "version": 3
   },
   "file_extension": ".py",
   "mimetype": "text/x-python",
   "name": "python",
   "nbconvert_exporter": "python",
   "pygments_lexer": "ipython3",
   "version": "3.6.5"
  }
 },
 "nbformat": 4,
 "nbformat_minor": 2
}
