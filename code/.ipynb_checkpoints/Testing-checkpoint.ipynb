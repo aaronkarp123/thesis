{
 "cells": [
  {
   "cell_type": "code",
   "execution_count": 14,
   "metadata": {},
   "outputs": [],
   "source": [
    "## Imports\n",
    "\n",
    "# We'll need numpy for some mathematical operations\n",
    "import numpy as np\n",
    "import math\n",
    "\n",
    "# matplotlib for displaying the output\n",
    "import matplotlib.pyplot as plt\n",
    "import matplotlib.style as ms\n",
    "ms.use('seaborn-muted')\n",
    "%matplotlib inline\n",
    "\n",
    "import glob\n",
    "import os\n",
    "\n",
    "from nearpy import Engine\n",
    "from nearpy.hashes import RandomBinaryProjections\n",
    "\n",
    "import random\n",
    "\n",
    "import pickle\n",
    "import shutil\n",
    "\n",
    "# Import local modules\n",
    "from helpers import *"
   ]
  },
  {
   "cell_type": "code",
   "execution_count": 2,
   "metadata": {},
   "outputs": [
    {
     "name": "stdout",
     "output_type": "stream",
     "text": [
      "Loading...\n",
      "7%     13%     20%     27%     33%     40%     47%     53%     60%     67%     73%     80%     87%     93%     Finished Loading\n",
      "Analyzing...\n",
      "7%     13%     20%     27%     33%     40%     47%     53%     60%     67%     73%     80%     87%     93%     Finished Analyzing\n",
      "\n",
      "Average number of segments:  7.133333333333334\n",
      "saved samplerates\n",
      "saved spectrograms\n",
      "saved mfccs\n",
      "saved rmss\n",
      "saved centroids\n"
     ]
    }
   ],
   "source": [
    "## Load all sample files\n",
    "filedir = \"../testSounds\"   # \"/Volumes/External Storage/Thesis/Corpus/eng-balm-emmanuel/flac\"\n",
    "segment_length = 0.2  # length of segments in seconds\n",
    "\n",
    "sounds, samplerates = load_sounds(filedir)\n",
    "spectrograms, mfccs, rmss, centroids, max_num_segs = analyze_sounds(sounds, samplerates, segment_length)\n",
    "\n",
    "num_files = len(sounds)\n",
    "\n",
    "directory = '/Users/aaronkarp/Documents/Thesis/Code/savedData/'\n",
    "to_save = [['samplerates', samplerates], ['spectrograms', spectrograms], ['mfccs', mfccs], ['rmss', rmss], ['centroids', centroids]]\n",
    "save_data(to_save, directory)"
   ]
  },
  {
   "cell_type": "code",
   "execution_count": 3,
   "metadata": {
    "scrolled": false
   },
   "outputs": [],
   "source": [
    "## Organize features into lists of segments\n",
    "# feature1 = [segment1 segment2 segment3]\n",
    "# segment1 = nxm np.matrix \n",
    "\n",
    "spectrograms_by_seg, spectrograms_by_seg_flat = segment_matrix(spectrograms, max_num_segs, num_files)\n",
    "mfccs_by_seg, mfccs_by_seg_flat = segment_matrix(mfccs, max_num_segs, num_files)\n",
    "centroids_by_seg, centroids_by_seg_flat = segment_matrix(centroids, max_num_segs, num_files)"
   ]
  },
  {
   "cell_type": "code",
   "execution_count": 19,
   "metadata": {},
   "outputs": [],
   "source": [
    "## Build LSHs for spectrograms_by_seg\n",
    "spec_engines = []\n",
    "mfcc_engines = []\n",
    "centroid_engines = []\n",
    "num_bits = 20 # How many bits to use for hashing\n",
    "for seg in spectrograms_by_seg_flat:\n",
    "    spec_engines.append(build_lsh(seg, num_bits))\n",
    "for seg in mfccs_by_seg_flat:\n",
    "    mfcc_engines.append(build_lsh(seg, num_bits))\n",
    "for seg in centroids_by_seg_flat:\n",
    "    centroid_engines.append(build_lsh(seg, num_bits))\n",
    "\n",
    "def save_engines(engines, name):\n",
    "    seg_num = 0\n",
    "    for engine in engines:\n",
    "        to_save = '/Users/aaronkarp/Documents/Thesis/Code/savedBases/'+name+'_'+str(seg_num)+'.p'\n",
    "        pickle.dump(engine,open(to_save,'wb'))\n",
    "        seg_num += 1\n",
    "        \n",
    "def load_engines(name):\n",
    "    engine = pickle.load(open('engine.p','rb'))\n",
    "    \n",
    "def reboot_directory(path='/Users/aaronkarp/Documents/Thesis/Code/savedBases'):\n",
    "    shutil.rmtree(path)\n",
    "    os.mkdir(path)\n",
    "\n",
    "reboot_directory()\n",
    "save_engines(spec_engines, 'spectrogram')\n",
    "save_engines(mfcc_engines, 'mfcc')\n",
    "save_engines(centroid_engines, 'centroid')"
   ]
  },
  {
   "cell_type": "code",
   "execution_count": null,
   "metadata": {
    "scrolled": false
   },
   "outputs": [],
   "source": [
    "## Query\n",
    "\n",
    "# Choose random sound in directory\n",
    "os.chdir(\"/Volumes/External Storage/Thesis/Corpus/eng-balm-judith/flac\")  #(\"/Users/aaronkarp/Documents/Thesis/testSounds\")\n",
    "files = []\n",
    "files.extend(glob.glob(\"*.wav\"))\n",
    "files.extend(glob.glob(\"*.flac\"))\n",
    "to_check = random.choice(files)\n",
    "\n",
    "cum_distances = [0]*num_files  # The combined distance measures\n",
    "\n",
    "guesses, distances = query_sound(to_check, centroid_engines, num_files, sounds, samplerates, \n",
    "                                 display=True, match_type='centroid')\n",
    "print(\"Guesses: \", end='')\n",
    "for x in guesses[:5]:\n",
    "    print(str(x) + \" : \" + str(distances[x]))\n",
    "cum_distances = [sum(x) for x in zip(distances, cum_distances)]\n",
    "      \n",
    "guesses, distances = query_sound(to_check, mfcc_engines, num_files, sounds, samplerates, \n",
    "                                 display=True, match_type='mfcc')\n",
    "print(\"Guesses: \", end='')\n",
    "for x in guesses[:5]:\n",
    "    print(str(x) + \" : \" + str(distances[x]))\n",
    "cum_distances = [sum(x) for x in zip(distances, cum_distances)]\n",
    "\n",
    "guesses, distances = query_sound(to_check, spec_engines, num_files, sounds, samplerates, \n",
    "                                 display=True, match_type='spectrogram')\n",
    "print(\"Guesses: \", end='')\n",
    "for x in guesses[:5]:\n",
    "    print(str(x) + \" : \" + str(distances[x]))\n",
    "cum_distances = [sum(x) for x in zip(distances, cum_distances)]\n",
    "\n",
    "cum_guesses = sorted(range(len(cum_distances)), key=lambda k : cum_distances[k])\n",
    "\n",
    "print(\"\\n\\nOriginal Query: \")\n",
    "y,sr = librosa.load(to_check)\n",
    "ipd.display(ipd.Audio(y, rate=sr)) # load matched file\n",
    "print(\"\\nBest guesses: \")\n",
    "for i in range(0, 4):\n",
    "    print(\"Sound #\" + str(cum_guesses[i]) + \" : \" + str(cum_distances[cum_guesses[i]]))\n",
    "    ipd.display(ipd.Audio(sounds[cum_guesses[i]], rate = samplerates[cum_guesses[i]])) # load matched file"
   ]
  }
 ],
 "metadata": {
  "kernelspec": {
   "display_name": "Python (thesisCode)",
   "language": "python",
   "name": "thesiscode"
  },
  "language_info": {
   "codemirror_mode": {
    "name": "ipython",
    "version": 3
   },
   "file_extension": ".py",
   "mimetype": "text/x-python",
   "name": "python",
   "nbconvert_exporter": "python",
   "pygments_lexer": "ipython3",
   "version": "3.6.5"
  }
 },
 "nbformat": 4,
 "nbformat_minor": 2
}
