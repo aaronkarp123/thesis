{
 "cells": [
  {
   "cell_type": "code",
   "execution_count": 1,
   "metadata": {},
   "outputs": [],
   "source": [
    "## Imports\n",
    "\n",
    "import glob\n",
    "import os\n",
    "\n",
    "import random\n",
    "\n",
    "# Import local modules containing all functions\n",
    "from helpers import *"
   ]
  },
  {
   "cell_type": "code",
   "execution_count": null,
   "metadata": {},
   "outputs": [
    {
     "name": "stdout",
     "output_type": "stream",
     "text": [
      "Loading...\n",
      "1%     2%     3%     4%     5%     6%     7%     8%     9%     10%     11%     12%     13%     14%     15%     16%     17%     18%     19%     20%     21%     22%     23%     24%     25%     26%     27%     28%     29%     30%     31%     32%     33%     34%     35%     36%     37%     38%     39%     40%     41%     42%     43%     44%     45%     46%     47%     48%     49%     50%     51%     52%     53%     54%     55%     56%     57%     58%     59%     60%     61%     62%     63%     64%     65%     66%     67%     68%     69%     70%     71%     72%     "
     ]
    }
   ],
   "source": [
    "## Load all sample files\n",
    "\n",
    "filedir =  \"/Volumes/External Storage/Thesis/Corpus/eng-balm-emmanuel/flac\"  #\"/Users/aaronkarp/Documents/Thesis/testSounds\"\n",
    "segment_length = 0.1  # length of segments in seconds\n",
    "\n",
    "sounds, samplerates, names, unused_names = load_sounds(filedir, cut=70)\n",
    "spectrograms, mfccs, rmss, centroids, max_num_segs = analyze_sounds(sounds, samplerates, segment_length)\n",
    "\n",
    "num_files = len(sounds)\n",
    "\n",
    "directory = '/Users/aaronkarp/Documents/Thesis/Code/savedData/'\n",
    "to_save = [['samplerates', samplerates], ['spectrograms', spectrograms], ['mfccs', mfccs], ['rmss', rmss], ['centroids', centroids]]\n",
    "save_data(to_save, directory)\n",
    "save_names(names, unused_names, directory=directory)"
   ]
  },
  {
   "cell_type": "code",
   "execution_count": null,
   "metadata": {
    "scrolled": false
   },
   "outputs": [],
   "source": [
    "## Organize features into lists of segments\n",
    "# feature1 = [segment1 segment2 segment3]\n",
    "# segment1 = nxm np.matrix \n",
    "\n",
    "spectrograms_by_seg_flat = segment_matrix(spectrograms, max_num_segs, num_files)\n",
    "mfccs_by_seg_flat = segment_matrix(mfccs, max_num_segs, num_files)\n",
    "centroids_by_seg_flat = segment_matrix(centroids, max_num_segs, num_files)"
   ]
  },
  {
   "cell_type": "code",
   "execution_count": null,
   "metadata": {},
   "outputs": [],
   "source": [
    "## Build/save LSHs for all features\n",
    "\n",
    "spec_engines = []\n",
    "mfcc_engines = []\n",
    "centroid_engines = []\n",
    "num_bits = 20 # How many bits to use for hashing\n",
    "\n",
    "for seg in spectrograms_by_seg_flat:\n",
    "    spec_engines.append(build_lsh(seg, num_bits))\n",
    "for seg in mfccs_by_seg_flat:\n",
    "    mfcc_engines.append(build_lsh(seg, num_bits))\n",
    "for seg in centroids_by_seg_flat:\n",
    "    centroid_engines.append(build_lsh(seg, num_bits))\n",
    "    \n",
    "reboot_directory()\n",
    "save_engines(spec_engines, 'spectrogram')\n",
    "save_engines(mfcc_engines, 'mfcc')\n",
    "save_engines(centroid_engines, 'centroid')"
   ]
  },
  {
   "cell_type": "code",
   "execution_count": null,
   "metadata": {
    "scrolled": false
   },
   "outputs": [],
   "source": [
    "## Load engines and Query\n",
    "\n",
    "# Load engines\n",
    "spec_engines = load_engines('spectrogram')\n",
    "mfcc_engines = load_engines('mfcc')\n",
    "centroid_engines = load_engines('centroid')\n",
    "\n",
    "# Load unused sounds and choose random one\n",
    "f = open('/Users/aaronkarp/Documents/Thesis/Code/savedData/unsampledFiles.txt', \"r\")\n",
    "unused_files = f.read().split('\\n')\n",
    "to_check = random.choice(unused_files)\n",
    "os.chdir(\"/Volumes/External Storage/Thesis/Corpus/eng-balm-emmanuel/flac\")  #(\"/Users/aaronkarp/Documents/Thesis/testSounds\")\n",
    "\n",
    "# Do the ANN distances\n",
    "\n",
    "cum_distances = [0]*num_files  # The combined distance measures\n",
    "\n",
    "guesses, distances = query_sound(to_check, centroid_engines, num_files, sounds, samplerates, segment_length = segment_length,\n",
    "                                 display=True, match_type='centroid')\n",
    "print(\"Guesses: \", end='')\n",
    "for x in guesses[:5]:\n",
    "    print(str(x) + \" : \" + str(distances[x]))\n",
    "cum_distances = [sum(x) for x in zip(distances, cum_distances)]\n",
    "      \n",
    "guesses, distances = query_sound(to_check, mfcc_engines, num_files, sounds, samplerates, segment_length = segment_length,\n",
    "                                 display=True, match_type='mfcc')\n",
    "print(\"Guesses: \", end='')\n",
    "for x in guesses[:5]:\n",
    "    print(str(x) + \" : \" + str(distances[x]))\n",
    "cum_distances = [sum(x) for x in zip(distances, cum_distances)]\n",
    "\n",
    "guesses, distances = query_sound(to_check, spec_engines, num_files, sounds, samplerates, segment_length = segment_length,\n",
    "                                 display=True, match_type='spectrogram')\n",
    "print(\"Guesses: \", end='')\n",
    "for x in guesses[:5]:\n",
    "    print(str(x) + \" : \" + str(distances[x]))\n",
    "cum_distances = [sum(x) for x in zip(distances, cum_distances)]\n",
    "\n",
    "cum_guesses = sorted(range(len(cum_distances)), key=lambda k : cum_distances[k])\n",
    "\n",
    "print(\"\\n\\nOriginal Query: \")\n",
    "y,sr = librosa.load(to_check)\n",
    "ipd.display(ipd.Audio(y, rate=sr)) # load matched file\n",
    "print(\"\\nBest guesses: \")\n",
    "for i in range(0, 4):\n",
    "    print(\"Sound #\" + str(cum_guesses[i]) + \" : \" + str(cum_distances[cum_guesses[i]]))\n",
    "    ipd.display(ipd.Audio(sounds[cum_guesses[i]], rate = samplerates[cum_guesses[i]])) # load matched file"
   ]
  }
 ],
 "metadata": {
  "kernelspec": {
   "display_name": "Python (thesisCode)",
   "language": "python",
   "name": "thesiscode"
  },
  "language_info": {
   "codemirror_mode": {
    "name": "ipython",
    "version": 3
   },
   "file_extension": ".py",
   "mimetype": "text/x-python",
   "name": "python",
   "nbconvert_exporter": "python",
   "pygments_lexer": "ipython3",
   "version": "3.6.5"
  }
 },
 "nbformat": 4,
 "nbformat_minor": 2
}
