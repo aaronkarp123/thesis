{
 "cells": [
  {
   "cell_type": "code",
   "execution_count": 14,
   "metadata": {
    "collapsed": false
   },
   "outputs": [],
   "source": [
    "from helpers import *\n",
    "from lstmHelpers import *\n",
    "\n",
    "from keras.models import load_model\n",
    "import time\n",
    "from collections import deque\n",
    "\n",
    "filedir = \"../\""
   ]
  },
  {
   "cell_type": "code",
   "execution_count": 2,
   "metadata": {
    "collapsed": false
   },
   "outputs": [
    {
     "name": "stdout",
     "output_type": "stream",
     "text": [
      "\n",
      "\n"
     ]
    }
   ],
   "source": [
    "def extract_class_info(matrix):\n",
    "    data_dict = {}\n",
    "    match_dict = {}\n",
    "    \n",
    "    for i in range(len(audio_matrix)):\n",
    "        filename = audio_matrix[i][2]\n",
    "        if filename not in data_dict:\n",
    "            yt,sr = librosa.load(filename)\n",
    "            y, idx = librosa.effects.trim(yt, top_db=50)\n",
    "            data_dict[filename] = y\n",
    "            match_dict[filename] = audio_matrix[i][1]\n",
    "    return data_dict, match_dict\n",
    "\n",
    "audio_matrix = load_stream(name=\"trainingInfo.txt\")\n",
    "data_dict, match_dict = extract_class_info(audio_matrix)\n",
    "model = load_model('LSTMModel.h5')"
   ]
  },
  {
   "cell_type": "code",
   "execution_count": 13,
   "metadata": {
    "collapsed": false
   },
   "outputs": [
    {
     "name": "stdout",
     "output_type": "stream",
     "text": [
      "28\n"
     ]
    }
   ],
   "source": [
    "def create_sample_stream(data_dict, match_dict, total_length=30):\n",
    "    \n",
    "    total_length *= 22050\n",
    "    \n",
    "    composite_signal_list = []\n",
    "    composite_matches_list = []\n",
    "    \n",
    "    cur_length = 0\n",
    "    num_files_used = 0\n",
    "    while cur_length < total_length:\n",
    "        filename = random.choice(list(data_dict.keys()))\n",
    "        y = data_dict.get(filename)\n",
    "        faded_y = apply_ramp(y, random.randint(0, int(0.25*22050)), random.randint(0, int(0.25*22050)))\n",
    "        composite_signal_list.append(faded_y)\n",
    "        composite_matches_list.append(np.full(faded_y.shape, match_dict.get(filename)))\n",
    "        cur_length += faded_y.shape[0]\n",
    "        num_files_used += 1\n",
    "    composite_signal = np.array(composite_signal_list)\n",
    "    composite_signal = np.concatenate(composite_signal).ravel()\n",
    "    composite_matches = np.array(composite_matches_list)\n",
    "    composite_matches = np.concatenate(composite_matches).ravel()\n",
    "    return composite_signal, composite_matches\n",
    "\n",
    "test_signal = create_sample_stream(data_dict, match_dict, total_length=30)"
   ]
  },
  {
   "cell_type": "code",
   "execution_count": 22,
   "metadata": {
    "collapsed": false
   },
   "outputs": [],
   "source": [
    "recent_frames = deque()\n",
    "for frame in np.nditer(test_signal):\n",
    "    recent_frames.append(frame)\n",
    "    if len(recent_frames) > 1000:\n",
    "        recent_frames.popleft()\n",
    "        spec = get_spectrogram(recent_frames, 22050, n_mels=n_mels, display=False)\n",
    "        cur_col = 0\n",
    "        transposed = spec.T\n",
    "        scaler = MinMaxScaler(feature_range=(0, 1))\n",
    "        transposed = scaler.fit_transform(transposed)"
   ]
  }
 ],
 "metadata": {
  "anaconda-cloud": {},
  "kernelspec": {
   "display_name": "Python [conda env:thesisCode]",
   "language": "python",
   "name": "conda-env-thesisCode-py"
  },
  "language_info": {
   "codemirror_mode": {
    "name": "ipython",
    "version": 3
   },
   "file_extension": ".py",
   "mimetype": "text/x-python",
   "name": "python",
   "nbconvert_exporter": "python",
   "pygments_lexer": "ipython3",
   "version": "3.6.5"
  }
 },
 "nbformat": 4,
 "nbformat_minor": 1
}
